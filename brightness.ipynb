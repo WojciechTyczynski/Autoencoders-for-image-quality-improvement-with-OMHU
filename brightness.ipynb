{
  "nbformat": 4,
  "nbformat_minor": 0,
  "metadata": {
    "accelerator": "GPU",
    "colab": {
      "name": "brightness.ipynb",
      "provenance": [],
      "collapsed_sections": [],
      "include_colab_link": true
    },
    "kernelspec": {
      "display_name": "Python 3",
      "name": "python3"
    },
    "language_info": {
      "name": "python"
    }
  },
  "cells": [
    {
      "cell_type": "markdown",
      "metadata": {
        "id": "view-in-github",
        "colab_type": "text"
      },
      "source": [
        "<a href=\"https://colab.research.google.com/github/WojciechTyczynski/Autoencoders-for-image-quality-improvement-with-OMHU/blob/main/brightness.ipynb\" target=\"_parent\"><img src=\"https://colab.research.google.com/assets/colab-badge.svg\" alt=\"Open In Colab\"/></a>"
      ]
    },
    {
      "cell_type": "markdown",
      "metadata": {
        "id": "bGD8JcMBNuE7"
      },
      "source": [
        "# Imports"
      ]
    },
    {
      "cell_type": "code",
      "metadata": {
        "id": "TmhPf7fKu7of"
      },
      "source": [
        "%matplotlib inline\n",
        "import matplotlib.pyplot as plt\n",
        "import numpy as np\n",
        "\n",
        "import torch\n",
        "import torchvision\n",
        "import torch.nn as nn\n",
        "import torchvision.transforms as transforms\n",
        "import torch.optim as optim\n",
        "import torch.nn.functional as F\n",
        "import matplotlib.pyplot as plt\n",
        "import os"
      ],
      "execution_count": null,
      "outputs": []
    },
    {
      "cell_type": "code",
      "metadata": {
        "colab": {
          "base_uri": "https://localhost:8080/"
        },
        "id": "dKfQw2D12z8B",
        "outputId": "b405d511-b4ae-4316-8420-48e1f85f518f"
      },
      "source": [
        "from google.colab import drive\n",
        "drive.mount('/content/drive')"
      ],
      "execution_count": null,
      "outputs": [
        {
          "output_type": "stream",
          "name": "stdout",
          "text": [
            "Mounted at /content/drive\n"
          ]
        }
      ]
    },
    {
      "cell_type": "markdown",
      "metadata": {
        "id": "F_5rQWoPNx8E"
      },
      "source": [
        "# Support funtions"
      ]
    },
    {
      "cell_type": "code",
      "metadata": {
        "id": "yC1YaYd1r3ZH"
      },
      "source": [
        "def imshow(img):\n",
        "    #img = img / 2 + 0.5  # unnormalize\n",
        "    plt.imshow(np.transpose(img, (1, 2, 0)))  # convert from Tensor image"
      ],
      "execution_count": null,
      "outputs": []
    },
    {
      "cell_type": "markdown",
      "metadata": {
        "id": "lnRMI2zqOmNV"
      },
      "source": [
        "# Dataset CIFAR10"
      ]
    },
    {
      "cell_type": "code",
      "metadata": {
        "colab": {
          "base_uri": "https://localhost:8080/"
        },
        "id": "0QH0c0uAxclU",
        "outputId": "f481857e-23e7-4f5f-923d-cf1d059bbc9a"
      },
      "source": [
        "transform = transforms.Compose(\n",
        "        [transforms.ToTensor()])\n",
        "\n",
        "# Load dataset normal\n",
        "batch_size = 20\n",
        "\n",
        "trainset = torchvision.datasets.CIFAR10(root='/content/drive/MyDrive/deep_learning', train=True,\n",
        "                                        download=True, transform=transform)\n",
        "trainloader = torch.utils.data.DataLoader(trainset, batch_size=batch_size,\n",
        "                                          shuffle=False, num_workers=2)\n",
        "\n",
        "testset = torchvision.datasets.CIFAR10(root='/content/drive/MyDrive/deep_learning', train=False,\n",
        "                                       download=True, transform=transform)\n",
        "testloader = torch.utils.data.DataLoader(testset, batch_size=batch_size,\n",
        "                                         shuffle=False, num_workers=2)\n",
        "\n",
        "classes = ('plane', 'car', 'bird', 'cat', 'deer',\n",
        "           'dog', 'frog', 'horse', 'ship', 'truck')\n",
        "\n",
        "used_categories = range(len(classes))\n",
        "\n",
        "train_data_iter = iter(trainloader)\n",
        "test_data_iter = iter(testloader)\n",
        "print('used classes:', classes)"
      ],
      "execution_count": null,
      "outputs": [
        {
          "output_type": "stream",
          "name": "stdout",
          "text": [
            "Files already downloaded and verified\n",
            "Files already downloaded and verified\n",
            "used classes: ('plane', 'car', 'bird', 'cat', 'deer', 'dog', 'frog', 'horse', 'ship', 'truck')\n"
          ]
        }
      ]
    },
    {
      "cell_type": "code",
      "metadata": {
        "colab": {
          "base_uri": "https://localhost:8080/"
        },
        "id": "Vb-DkukjABWo",
        "outputId": "265f340c-38c4-49d6-f17d-70272986d315"
      },
      "source": [
        "import random \n",
        "transform_noise = transforms.Compose(\n",
        "        [transforms.ToTensor(), \n",
        "         transforms.Lambda(lambda x : x + random.randint(-3,3)/10 * torch.ones_like(x))])\n",
        "\n",
        "# Load dataset normal\n",
        "batch_size = 20\n",
        "\n",
        "trainset_noise = torchvision.datasets.CIFAR10(root='/content/drive/MyDrive/deep_learning', train=True,\n",
        "                                        download=True, transform=transform_noise)\n",
        "trainloader_noise = torch.utils.data.DataLoader(trainset_noise, batch_size=batch_size,\n",
        "                                          shuffle=False, num_workers=2)\n",
        "\n",
        "testset_noise = torchvision.datasets.CIFAR10(root='/content/drive/MyDrive/deep_learning', train=False,\n",
        "                                       download=True, transform=transform_noise)\n",
        "testloader_noise = torch.utils.data.DataLoader(testset_noise, batch_size=batch_size,\n",
        "                                         shuffle=False, num_workers=2)\n",
        "\n",
        "classes = ('plane', 'car', 'bird', 'cat', 'deer',\n",
        "           'dog', 'frog', 'horse', 'ship', 'truck')\n",
        "\n",
        "used_categories = range(len(classes))\n",
        "\n",
        "train_data_iter_noise = iter(trainloader_noise)\n",
        "test_data_iter_noise = iter(testloader_noise)\n",
        "print('used classes:', classes)"
      ],
      "execution_count": null,
      "outputs": [
        {
          "output_type": "stream",
          "name": "stdout",
          "text": [
            "Files already downloaded and verified\n",
            "Files already downloaded and verified\n",
            "used classes: ('plane', 'car', 'bird', 'cat', 'deer', 'dog', 'frog', 'horse', 'ship', 'truck')\n"
          ]
        }
      ]
    },
    {
      "cell_type": "code",
      "metadata": {
        "colab": {
          "base_uri": "https://localhost:8080/",
          "height": 266
        },
        "id": "H_DfI2nQ-ukH",
        "outputId": "96b0b2fe-5ac3-482b-8869-febbe1b5651b"
      },
      "source": [
        "images_noise, labels = train_data_iter_noise.next()\n",
        "images, _ = train_data_iter.next()\n",
        "imshow(images[0])"
      ],
      "execution_count": null,
      "outputs": [
        {
          "output_type": "display_data",
          "data": {
            "image/png": "[encoded data removed]",
            "text/plain": [
              "<Figure size 432x288 with 1 Axes>"
            ]
          },
          "metadata": {
            "needs_background": "light"
          }
        }
      ]
    },
    {
      "cell_type": "code",
      "metadata": {
        "colab": {
          "base_uri": "https://localhost:8080/",
          "height": 266
        },
        "id": "qlsqUFgRAgLW",
        "outputId": "5c7081c0-acde-48f1-890b-e511d344c8e9"
      },
      "source": [
        "imshow(images_noise[0])"
      ],
      "execution_count": null,
      "outputs": [
        {
          "output_type": "display_data",
          "data": {
            "image/png": "[encoded data removed]",
            "text/plain": [
              "<Figure size 432x288 with 1 Axes>"
            ]
          },
          "metadata": {
            "needs_background": "light"
          }
        }
      ]
    },
    {
      "cell_type": "code",
      "metadata": {
        "colab": {
          "base_uri": "https://localhost:8080/"
        },
        "id": "d2XT5vUwxm3a",
        "outputId": "9729c288-2b8d-471f-a8f9-ad97874c7bcf"
      },
      "source": [
        "print(\"# Training data\")\n",
        "print(\"Number of points:\", len(trainset))\n",
        "x, y = next(iter(trainloader))\n",
        "print(\"Batch dimension [B x C x H x W]:\", x.shape)\n",
        "print(\"Number of distinct labels:\", len(set(trainset.targets)))\n",
        "\n",
        "\n",
        "print(\"\\n# Test data\")\n",
        "print(\"Number of points:\", len(testset))\n",
        "x, y = next(iter(testloader))\n",
        "print(\"Batch dimension [B x C x H x W]:\", x.shape)\n",
        "print(\"Number of distinct labels:\", len(set(testset.targets)))"
      ],
      "execution_count": null,
      "outputs": [
        {
          "output_type": "stream",
          "name": "stdout",
          "text": [
            "# Training data\n",
            "Number of points: 50000\n",
            "Batch dimension [B x C x H x W]: torch.Size([20, 3, 32, 32])\n",
            "Number of distinct labels: 10\n",
            "\n",
            "# Test data\n",
            "Number of points: 10000\n",
            "Batch dimension [B x C x H x W]: torch.Size([20, 3, 32, 32])\n",
            "Number of distinct labels: 10\n"
          ]
        }
      ]
    },
    {
      "cell_type": "markdown",
      "metadata": {
        "id": "qdha9yXuO8wV"
      },
      "source": [
        "# Network\n"
      ]
    },
    {
      "cell_type": "code",
      "metadata": {
        "colab": {
          "base_uri": "https://localhost:8080/"
        },
        "id": "bxwXpWg2x_z3",
        "outputId": "b37c8945-6bfe-4457-cdd0-7f125881fca2"
      },
      "source": [
        "class ConvBrightnessAutoencoder(nn.Module):\n",
        "  def __init__(self):\n",
        "      super(ConvBrightnessAutoencoder, self).__init__()\n",
        "\n",
        "      #Encoder\n",
        "      self.conv1 = nn.Conv2d(3, 24, 3, stride=1, padding=0)\n",
        "      self.conv2 = nn.Conv2d(24, 48, 3, stride=1, padding=0)\n",
        "      self.conv3 = nn.Conv2d(48, 96, 3, stride=1, padding=0)\n",
        "\n",
        "      #Decoder\n",
        "      self.t_conv1 = nn.ConvTranspose2d(96, 48, 3, stride=1, padding=0)\n",
        "      self.t_conv2 = nn.ConvTranspose2d(48, 24, 3, stride=1, padding=0)\n",
        "      self.t_conv3 = nn.ConvTranspose2d(24, 3, 3, stride=1, padding=0)\n",
        "     \n",
        "\n",
        "  def forward(self, x):\n",
        "      x = F.relu(self.conv1(x))\n",
        "      x = F.relu(self.conv2(x))\n",
        "      x = F.relu(self.conv3(x))\n",
        "      x = F.relu(self.t_conv1(x))\n",
        "      x = F.relu(self.t_conv2(x))\n",
        "      x = F.sigmoid(self.t_conv3(x))\n",
        "\n",
        "      return x\n",
        "  \n",
        "#Instantiate the model\n",
        "model = ConvBrightnessAutoencoder()\n",
        "print(model)"
      ],
      "execution_count": null,
      "outputs": [
        {
          "output_type": "stream",
          "name": "stdout",
          "text": [
            "ConvBrightnessAutoencoder(\n",
            "  (conv1): Conv2d(3, 24, kernel_size=(3, 3), stride=(1, 1))\n",
            "  (conv2): Conv2d(24, 48, kernel_size=(3, 3), stride=(1, 1))\n",
            "  (conv3): Conv2d(48, 96, kernel_size=(3, 3), stride=(1, 1))\n",
            "  (t_conv1): ConvTranspose2d(96, 48, kernel_size=(3, 3), stride=(1, 1))\n",
            "  (t_conv2): ConvTranspose2d(48, 24, kernel_size=(3, 3), stride=(1, 1))\n",
            "  (t_conv3): ConvTranspose2d(24, 3, kernel_size=(3, 3), stride=(1, 1))\n",
            ")\n"
          ]
        }
      ]
    },
    {
      "cell_type": "code",
      "metadata": {
        "id": "MjkNGp3qLS2G"
      },
      "source": [
        "#Loss function\n",
        "# criterion = nn.BCELoss()\n",
        "criterion = nn.MSELoss()\n",
        "\n",
        "#Optimizer\n",
        "optimizer = torch.optim.Adam(model.parameters(), lr=0.001)"
      ],
      "execution_count": null,
      "outputs": []
    },
    {
      "cell_type": "code",
      "metadata": {
        "colab": {
          "base_uri": "https://localhost:8080/"
        },
        "id": "60GO0KgiLc0U",
        "outputId": "37fcc830-3437-4383-f289-5a41d9c08367"
      },
      "source": [
        "def get_device():\n",
        "    if torch.cuda.is_available():\n",
        "        device = 'cuda:0'\n",
        "    else:\n",
        "        device = 'cpu'\n",
        "    return device\n",
        "\n",
        "device = get_device()\n",
        "print(device)\n",
        "model.to(device)"
      ],
      "execution_count": null,
      "outputs": [
        {
          "output_type": "stream",
          "name": "stdout",
          "text": [
            "cuda:0\n"
          ]
        },
        {
          "output_type": "execute_result",
          "data": {
            "text/plain": [
              "ConvBrightnessAutoencoder(\n",
              "  (conv1): Conv2d(3, 24, kernel_size=(3, 3), stride=(1, 1))\n",
              "  (conv2): Conv2d(24, 48, kernel_size=(3, 3), stride=(1, 1))\n",
              "  (conv3): Conv2d(48, 96, kernel_size=(3, 3), stride=(1, 1))\n",
              "  (t_conv1): ConvTranspose2d(96, 48, kernel_size=(3, 3), stride=(1, 1))\n",
              "  (t_conv2): ConvTranspose2d(48, 24, kernel_size=(3, 3), stride=(1, 1))\n",
              "  (t_conv3): ConvTranspose2d(24, 3, kernel_size=(3, 3), stride=(1, 1))\n",
              ")"
            ]
          },
          "metadata": {},
          "execution_count": 24
        }
      ]
    },
    {
      "cell_type": "code",
      "metadata": {
        "id": "f_CKe9yFEBNN"
      },
      "source": [
        "def save_image(image, name):\n",
        "  plt.imshow(np.transpose(image, (1, 2, 0)))  # convert from Tensor image\n",
        "  plt.savefig('/content/drive/MyDrive/deep_learning/{}03noise.jpg'.format(name))"
      ],
      "execution_count": null,
      "outputs": []
    },
    {
      "cell_type": "code",
      "metadata": {
        "colab": {
          "base_uri": "https://localhost:8080/",
          "height": 1000
        },
        "id": "UVDADBbsLgA6",
        "outputId": "7b28b449-d292-4469-cadb-d4aff338ddd0"
      },
      "source": [
        "#Epochs\n",
        "n_epochs = 50\n",
        "epoch_train_loss = []\n",
        "epoch_test_loss = []\n",
        "epoch_train_improvement = []\n",
        "epoch_test_improvement = []\n",
        "\n",
        "\n",
        "\n",
        "for epoch in range(1, n_epochs+1):\n",
        "    # monitor training loss\n",
        "    train_loss = 0.0\n",
        "    test_loss = 0.0\n",
        "    train_improvement = 0\n",
        "    test_improvement = 0\n",
        "    added_noise_train = 0\n",
        "    added_noise_test = 0\n",
        "\n",
        "    #Training\n",
        "    for (data, data_noise) in zip(trainloader, trainloader_noise):\n",
        "        images, _ = data\n",
        "        noisy_imgs, _ = data_noise\n",
        "        noisy_imgs = np.clip(noisy_imgs, 0., 1.)\n",
        "        noisy_imgs=noisy_imgs.to(device)\n",
        "        images = images.to(device)\n",
        "\n",
        "        optimizer.zero_grad()\n",
        "        outputs = model(noisy_imgs)\n",
        "        loss = criterion(outputs, images)\n",
        "        loss.backward()\n",
        "        optimizer.step()\n",
        "\n",
        "        train_loss += loss.item()*images.size(0)\n",
        "        train_improvement += criterion(outputs,noisy_imgs).item()*images.size(0)\n",
        "        added_noise_train += criterion(images,noisy_imgs).item()*images.size(0)\n",
        "  \n",
        "    epoch_train_loss.append(train_loss/len(trainloader))\n",
        "\n",
        "    with torch.no_grad():\n",
        "\n",
        "        for (data,data_noisey,turn) in zip(testloader, testloader_noise, range(len(testloader))):\n",
        "\n",
        "            test_images, _ = data\n",
        "            noisy_test_images, _ = data_noisey\n",
        "            noisy_test_images = np.clip(noisy_test_images, 0., 1.)\n",
        "            noisy_test_images=noisy_test_images.to(device)\n",
        "            test_images = test_images.to(device)\n",
        "\n",
        "            output_test = model(noisy_test_images)\n",
        "            if turn==0:\n",
        "              # save the image before model, on purpose always with the same name so we have it to compare\n",
        "              save_image(test_images[1].cpu(), 'base')\n",
        "              save_image(noisy_test_images[1].cpu(), 'noisy')\n",
        "              # save the image run through the model\n",
        "              save_image(output_test[1].cpu(), epoch)\n",
        "\n",
        "            # gather data for the validation step\n",
        "            test_loss += (criterion(output_test, test_images).item()*test_images.size(0))\n",
        "            test_improvement += criterion(output_test,noisy_test_images).item()*test_images.size(0)\n",
        "            added_noise_test += criterion(test_images,noisy_test_images).item()*test_images.size(0)\n",
        "        \n",
        "\n",
        "    train_loss = train_loss/len(trainloader)\n",
        "    test_loss = test_loss/len(testloader)\n",
        "\n",
        "    epoch_test_loss.append(test_loss)\n",
        "\n",
        "    percentage_improvement_train = ((added_noise_train-train_improvement)/added_noise_train)*100\n",
        "    percentage_improvement_test = ((added_noise_test-test_improvement)/added_noise_test)*100\n",
        "\n",
        "    epoch_test_improvement.append(percentage_improvement_test)\n",
        "    epoch_train_improvement.append(percentage_improvement_train)\n",
        "\n",
        "\n",
        "    print('Epoch: {} \\tTraining Loss: {:.6f}.  Test Loss: {:.6f}'.format(epoch, train_loss, test_loss))\n",
        "\n",
        "import pandas as pd\n",
        "errors = {'train' : epoch_train_loss, 'test' : epoch_test_loss}\n",
        "df_errors = pd.DataFrame(data = errors)\n",
        "df_errors.to_csv('/content/drive/MyDrive/deep_learning/noise_errors.csv')\n",
        "\n",
        "torch.save(model.state_dict(), '/content/drive/MyDrive/deep_learning/bright_n_dark.pth')"
      ],
      "execution_count": null,
      "outputs": [
        {
          "output_type": "stream",
          "name": "stderr",
          "text": [
            "/usr/local/lib/python3.7/dist-packages/torch/nn/functional.py:1806: UserWarning: nn.functional.sigmoid is deprecated. Use torch.sigmoid instead.\n",
            "  warnings.warn(\"nn.functional.sigmoid is deprecated. Use torch.sigmoid instead.\")\n"
          ]
        },
        {
          "output_type": "stream",
          "name": "stdout",
          "text": [
            "Epoch: 1 \tTraining Loss: 0.325123.  Test Loss: 0.242835\n",
            "Epoch: 2 \tTraining Loss: 0.226035.  Test Loss: 0.200717\n",
            "Epoch: 3 \tTraining Loss: 0.206783.  Test Loss: 0.199321\n",
            "Epoch: 4 \tTraining Loss: 0.195887.  Test Loss: 0.195100\n",
            "Epoch: 5 \tTraining Loss: 0.188112.  Test Loss: 0.180497\n",
            "Epoch: 6 \tTraining Loss: 0.182765.  Test Loss: 0.196576\n",
            "Epoch: 7 \tTraining Loss: 0.178674.  Test Loss: 0.177053\n",
            "Epoch: 8 \tTraining Loss: 0.175323.  Test Loss: 0.166770\n",
            "Epoch: 9 \tTraining Loss: 0.171490.  Test Loss: 0.165307\n",
            "Epoch: 10 \tTraining Loss: 0.169112.  Test Loss: 0.167049\n",
            "Epoch: 11 \tTraining Loss: 0.168502.  Test Loss: 0.165614\n",
            "Epoch: 12 \tTraining Loss: 0.165897.  Test Loss: 0.164549\n",
            "Epoch: 13 \tTraining Loss: 0.164052.  Test Loss: 0.163607\n",
            "Epoch: 14 \tTraining Loss: 0.164328.  Test Loss: 0.161640\n",
            "Epoch: 15 \tTraining Loss: 0.161663.  Test Loss: 0.155678\n",
            "Epoch: 16 \tTraining Loss: 0.160731.  Test Loss: 0.154537\n",
            "Epoch: 17 \tTraining Loss: 0.159054.  Test Loss: 0.153045\n",
            "Epoch: 18 \tTraining Loss: 0.158354.  Test Loss: 0.156959\n",
            "Epoch: 19 \tTraining Loss: 0.156788.  Test Loss: 0.156002\n",
            "Epoch: 20 \tTraining Loss: 0.157056.  Test Loss: 0.156973\n",
            "Epoch: 21 \tTraining Loss: 0.155189.  Test Loss: 0.152138\n",
            "Epoch: 22 \tTraining Loss: 0.154435.  Test Loss: 0.154424\n",
            "Epoch: 23 \tTraining Loss: 0.154254.  Test Loss: 0.155121\n",
            "Epoch: 24 \tTraining Loss: 0.153747.  Test Loss: 0.151892\n",
            "Epoch: 25 \tTraining Loss: 0.153951.  Test Loss: 0.147923\n",
            "Epoch: 26 \tTraining Loss: 0.153324.  Test Loss: 0.158985\n",
            "Epoch: 27 \tTraining Loss: 0.151408.  Test Loss: 0.147375\n",
            "Epoch: 28 \tTraining Loss: 0.151673.  Test Loss: 0.150832\n",
            "Epoch: 29 \tTraining Loss: 0.150411.  Test Loss: 0.143795\n",
            "Epoch: 30 \tTraining Loss: 0.149817.  Test Loss: 0.146677\n",
            "Epoch: 31 \tTraining Loss: 0.149979.  Test Loss: 0.152482\n",
            "Epoch: 32 \tTraining Loss: 0.150526.  Test Loss: 0.146815\n",
            "Epoch: 33 \tTraining Loss: 0.149330.  Test Loss: 0.145973\n",
            "Epoch: 34 \tTraining Loss: 0.149570.  Test Loss: 0.144333\n",
            "Epoch: 35 \tTraining Loss: 0.148010.  Test Loss: 0.148481\n",
            "Epoch: 36 \tTraining Loss: 0.147849.  Test Loss: 0.155400\n",
            "Epoch: 37 \tTraining Loss: 0.147768.  Test Loss: 0.152637\n",
            "Epoch: 38 \tTraining Loss: 0.148148.  Test Loss: 0.151651\n",
            "Epoch: 39 \tTraining Loss: 0.146475.  Test Loss: 0.144072\n",
            "Epoch: 40 \tTraining Loss: 0.147190.  Test Loss: 0.150207\n",
            "Epoch: 41 \tTraining Loss: 0.147048.  Test Loss: 0.141349\n",
            "Epoch: 42 \tTraining Loss: 0.146001.  Test Loss: 0.141116\n",
            "Epoch: 43 \tTraining Loss: 0.145630.  Test Loss: 0.146730\n",
            "Epoch: 44 \tTraining Loss: 0.145213.  Test Loss: 0.148699\n",
            "Epoch: 45 \tTraining Loss: 0.145232.  Test Loss: 0.145876\n",
            "Epoch: 46 \tTraining Loss: 0.144809.  Test Loss: 0.143147\n",
            "Epoch: 47 \tTraining Loss: 0.144343.  Test Loss: 0.144543\n",
            "Epoch: 48 \tTraining Loss: 0.144253.  Test Loss: 0.143243\n",
            "Epoch: 49 \tTraining Loss: 0.145087.  Test Loss: 0.141145\n",
            "Epoch: 50 \tTraining Loss: 0.144313.  Test Loss: 0.147502\n"
          ]
        },
        {
          "output_type": "display_data",
          "data": {
            "image/png": "[encoded data removed]",
            "text/plain": [
              "<Figure size 432x288 with 1 Axes>"
            ]
          },
          "metadata": {
            "needs_background": "light"
          }
        }
      ]
    },
    {
      "cell_type": "code",
      "metadata": {
        "id": "RCWaxjpUDeNH"
      },
      "source": [
        "# obtain one batch of training images\n",
        "dataiter = iter(testloader)\n",
        "images, labels = dataiter.next()\n",
        "images, labels = dataiter.next()\n",
        "# convert images to numpy for display\n",
        "imshow(images[16])"
      ],
      "execution_count": null,
      "outputs": []
    },
    {
      "cell_type": "code",
      "metadata": {
        "id": "E1hd1iqpi0mf"
      },
      "source": [
        "dataiter_noise = iter(testloader_noise)\n",
        "images_noise, _ = dataiter_noise.next()\n",
        "images_noise, _ = dataiter_noise.next()\n",
        "images_noise = np.clip(images_noise, 0., 1.)\n",
        "imshow(images_noise[16])"
      ],
      "execution_count": null,
      "outputs": []
    },
    {
      "cell_type": "code",
      "metadata": {
        "id": "_wpyIq_cjBV_"
      },
      "source": [
        "images_noise=images_noise.to(device)\n",
        "images_noise = images_noise.to(device)\n",
        "\n",
        "output = model(images_noise)\n",
        "imshow(output[16].detach().cpu())"
      ],
      "execution_count": null,
      "outputs": []
    },
    {
      "cell_type": "code",
      "metadata": {
        "id": "YAa9qAdTmriY"
      },
      "source": [
        "def show_image(batch, imagenumber, factor):\n",
        "\n",
        "  dataiter = iter(testloader)\n",
        "  dataiter_noise = iter(testloader_noise)\n",
        "\n",
        "  for times in range(batch):\n",
        "    images, labels = dataiter.next()\n",
        "    images_noise, _ = dataiter_noise.next()\n",
        "\n",
        "  images_noise = np.clip((images + factor * torch.ones(*images.shape)), 0., 1.)\n",
        "\n",
        "  # OUTPUT\n",
        "  images_noise=images_noise.to(device)\n",
        "  images_noise = images_noise.to(device)\n",
        "  output = model(images_noise)\n",
        "\n",
        "  # create figure\n",
        "  fig = plt.figure(figsize=(20, 14))\n",
        "\n",
        "  # setting values to rows and column variables\n",
        "  rows = 3\n",
        "  columns = 1\n",
        "\n",
        "  # reading images\n",
        "  Image1 = images[imagenumber]\n",
        "  Image2 = (images + factor * torch.ones(*images.shape))[imagenumber]\n",
        "  Image3 = output[imagenumber].detach().cpu()\n",
        "\n",
        "  # Adds a subplot at the 1st position\n",
        "  fig.add_subplot(rows, columns, 1)\n",
        "\n",
        "  # showing image\n",
        "  plt.imshow(np.transpose(Image1, (1, 2, 0)))\n",
        "  plt.axis('off')\n",
        "  plt.title(\"Normal\")\n",
        "\n",
        "  # Adds a subplot at the 2nd position\n",
        "  fig.add_subplot(rows, columns, 2)\n",
        "\n",
        "  # showing image\n",
        "  plt.imshow(np.transpose(Image2, (1, 2, 0)))\n",
        "  plt.axis('off')\n",
        "  plt.title(\"Bright/Dark\")\n",
        "\n",
        "  # Adds a subplot at the 3rd position\n",
        "  fig.add_subplot(rows, columns, 3)\n",
        "\n",
        "  # showing image\n",
        "  plt.imshow(np.transpose(Image3, (1, 2, 0)))\n",
        "  plt.axis('off')\n",
        "  plt.title(\"Model Output\")\n",
        "\n",
        "def show_image_save(batch, imagenumber, factor):\n",
        "\n",
        "  dataiter = iter(testloader)\n",
        "  dataiter_noise = iter(testloader_noise)\n",
        "\n",
        "  for times in range(batch):\n",
        "    images, labels = dataiter.next()\n",
        "    images_noise, _ = dataiter_noise.next()\n",
        "\n",
        "  images_noise = np.clip((images + factor * torch.ones(*images.shape)), 0., 1.)\n",
        "\n",
        "  # OUTPUT\n",
        "  images_noise=images_noise.to(device)\n",
        "  images_noise = images_noise.to(device)\n",
        "  output = model(images_noise)\n",
        "\n",
        "  # create figure\n",
        "  fig = plt.figure(figsize=(20, 14))\n",
        "\n",
        "  # setting values to rows and column variables\n",
        "  rows = 3\n",
        "  columns = 1\n",
        "\n",
        "  # reading images\n",
        "  Image1 = images[imagenumber]\n",
        "  Image2 = (images + factor * torch.ones(*images.shape))[imagenumber]\n",
        "  Image3 = output[imagenumber].detach().cpu()\n",
        "\n",
        "  # Adds a subplot at the 1st position\n",
        "  fig.add_subplot(rows, columns, 1)\n",
        "\n",
        "  # showing image\n",
        "  plt.imshow(np.transpose(Image1, (1, 2, 0)))\n",
        "  plt.axis('off')\n",
        "  plt.title(\"Normal\")\n",
        "\n",
        "  # Adds a subplot at the 2nd position\n",
        "  fig.add_subplot(rows, columns, 2)\n",
        "\n",
        "  # showing image\n",
        "  plt.imshow(np.transpose(Image2, (1, 2, 0)))\n",
        "  plt.axis('off')\n",
        "  plt.title(\"Bright/Dark\")\n",
        "\n",
        "  # Adds a subplot at the 3rd position\n",
        "  fig.add_subplot(rows, columns, 3)\n",
        "\n",
        "  # showing image\n",
        "  plt.imshow(np.transpose(Image3, (1, 2, 0)))\n",
        "  plt.axis('off')\n",
        "  plt.title(\"Model Output\")\n",
        "\n",
        "  plt.savefig('image_saved{}{}'.format(batch,imagenumber),figsize=(90,20))\n",
        "\n"
      ],
      "execution_count": null,
      "outputs": []
    },
    {
      "cell_type": "code",
      "metadata": {
        "id": "3YBo4PrTodag",
        "colab": {
          "base_uri": "https://localhost:8080/",
          "height": 860
        },
        "outputId": "316d3b6d-36cb-4748-816a-3737d8a73820"
      },
      "source": [
        "show_image(25, 8, +0.3)"
      ],
      "execution_count": null,
      "outputs": [
        {
          "output_type": "stream",
          "name": "stderr",
          "text": [
            "/usr/local/lib/python3.7/dist-packages/torch/nn/functional.py:1806: UserWarning: nn.functional.sigmoid is deprecated. Use torch.sigmoid instead.\n",
            "  warnings.warn(\"nn.functional.sigmoid is deprecated. Use torch.sigmoid instead.\")\n",
            "Clipping input data to the valid range for imshow with RGB data ([0..1] for floats or [0..255] for integers).\n"
          ]
        },
        {
          "output_type": "display_data",
          "data": {
            "image/png": "[encoded data removed]",
            "text/plain": [
              "<Figure size 1440x1008 with 3 Axes>"
            ]
          },
          "metadata": {
            "needs_background": "light"
          }
        }
      ]
    },
    {
      "cell_type": "code",
      "metadata": {
        "id": "pijWiBmkr7Ao"
      },
      "source": [
        "# FOR NOISE\n",
        "\n",
        "def show_image(batch, imagenumber, factor):\n",
        "\n",
        "  dataiter = iter(testloader)\n",
        "  dataiter_noise = iter(testloader_noise)\n",
        "\n",
        "  for times in range(batch):\n",
        "    images, labels = dataiter.next()\n",
        "    images_noise, _ = dataiter_noise.next()\n",
        "  \n",
        "  transformed_image = images + factor * torch.randn(*images.shape)\n",
        "  \n",
        "  images_noise = np.clip(transformed_image, 0., 1.)\n",
        "\n",
        "  # OUTPUT\n",
        "  images_noise=images_noise.to(device)\n",
        "  images_noise = images_noise.to(device)\n",
        "  output = model(images_noise)\n",
        "\n",
        "  # create figure\n",
        "  fig = plt.figure(figsize=(20, 14))\n",
        "\n",
        "  # setting values to rows and column variables\n",
        "  rows = 3\n",
        "  columns = 1\n",
        "\n",
        "  # reading images\n",
        "  Image1 = images[imagenumber]\n",
        "  Image2 = transformed_image[imagenumber]\n",
        "  Image3 = output[imagenumber].detach().cpu()\n",
        "\n",
        "  # Adds a subplot at the 1st position\n",
        "  fig.add_subplot(rows, columns, 1)\n",
        "\n",
        "  # showing image\n",
        "  plt.imshow(np.transpose(Image1, (1, 2, 0)))\n",
        "  plt.axis('off')\n",
        "  plt.title(\"Normal\")\n",
        "\n",
        "  # Adds a subplot at the 2nd position\n",
        "  fig.add_subplot(rows, columns, 2)\n",
        "\n",
        "  # showing image\n",
        "  plt.imshow(np.transpose(Image2, (1, 2, 0)))\n",
        "  plt.axis('off')\n",
        "  plt.title(\"Noisy\")\n",
        "\n",
        "  # Adds a subplot at the 3rd position\n",
        "  fig.add_subplot(rows, columns, 3)\n",
        "\n",
        "  # showing image\n",
        "  plt.imshow(np.transpose(Image3, (1, 2, 0)))\n",
        "  plt.axis('off')\n",
        "  plt.title(\"Model Output\")"
      ],
      "execution_count": null,
      "outputs": []
    },
    {
      "cell_type": "code",
      "metadata": {
        "id": "2Wfq4qTyuBj4"
      },
      "source": [
        "# FOR NOISE AND BRIGHTNESS\n",
        "def show_image(batch, imagenumber, factor_noise, factor_brightness):\n",
        "\n",
        "  dataiter = iter(testloader)\n",
        "  dataiter_noise = iter(testloader_noise)\n",
        "\n",
        "  for times in range(batch):\n",
        "    images, labels = dataiter.next()\n",
        "    images_noise, _ = dataiter_noise.next()\n",
        "\n",
        "  transformed_images = images + factor_noise * torch.randn(*images.shape) + factor_brightness * torch.ones(*images.shape)\n",
        "  images_noise = np.clip(transformed_images, 0., 1.)\n",
        "\n",
        "  # OUTPUT\n",
        "  images_noise=images_noise.to(device)\n",
        "  images_noise = images_noise.to(device)\n",
        "  output = model(images_noise)\n",
        "\n",
        "  # create figure\n",
        "  fig = plt.figure(figsize=(20, 14))\n",
        "\n",
        "  # setting values to rows and column variables\n",
        "  rows = 3\n",
        "  columns = 1\n",
        "\n",
        "  # reading images\n",
        "  Image1 = images[imagenumber]\n",
        "  Image2 = (transformed_images)[imagenumber]\n",
        "  Image3 = output[imagenumber].detach().cpu()\n",
        "\n",
        "  # Adds a subplot at the 1st position\n",
        "  fig.add_subplot(rows, columns, 1)\n",
        "\n",
        "  # showing image\n",
        "  plt.imshow(np.transpose(Image1, (1, 2, 0)))\n",
        "  plt.axis('off')\n",
        "  plt.title(\"Normal\")\n",
        "\n",
        "  # Adds a subplot at the 2nd position\n",
        "  fig.add_subplot(rows, columns, 2)\n",
        "\n",
        "  # showing image\n",
        "  plt.imshow(np.transpose(Image2, (1, 2, 0)))\n",
        "  plt.axis('off')\n",
        "  plt.title(\"Noisy\")\n",
        "\n",
        "  # Adds a subplot at the 3rd position\n",
        "  fig.add_subplot(rows, columns, 3)\n",
        "\n",
        "  # showing image\n",
        "  plt.imshow(np.transpose(Image3, (1, 2, 0)))\n",
        "  plt.axis('off')\n",
        "  plt.title(\"Model Output\")"
      ],
      "execution_count": null,
      "outputs": []
    }
  ]
}